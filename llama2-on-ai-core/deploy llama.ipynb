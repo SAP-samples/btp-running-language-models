{
 "cells": [
  {
   "cell_type": "code",
   "execution_count": 1,
   "id": "c5f1326f-692c-457f-8734-2e11f0fe2cac",
   "metadata": {},
   "outputs": [],
   "source": [
    "from ai_api_client_sdk.ai_api_v2_client import AIAPIV2Client\n",
    "import requests\n",
    "import json\n",
    "import pprint\n",
    "#key file from service instance is necessary to login\n",
    "with open(\"ai-core-key.txt\") as file:\n",
    "    aicorekey = json.load(file)"
   ]
  },
  {
   "cell_type": "code",
   "execution_count": 2,
   "id": "2100c3d3-0050-4657-ad86-40144b82d05a",
   "metadata": {},
   "outputs": [],
   "source": [
    "AUTH_URL = aicorekey[\"url\"]\n",
    "AI_API = aicorekey[\"serviceurls\"][\"AI_API_URL\"] + \"/v2\"\n",
    "CLIENT_ID = aicorekey[\"clientid\"]\n",
    "CLIENT_SECRET = aicorekey[\"clientsecret\"]\n",
    "RESOURCE_GROUP = \"llm\"\n",
    "SCENARIO_ID = \"transformers\"\n",
    "SERVING_EXECUTABLE = \"transformers\""
   ]
  },
  {
   "cell_type": "code",
   "execution_count": 3,
   "id": "8ee93e73-2225-4502-9b28-6030cac45aee",
   "metadata": {},
   "outputs": [],
   "source": [
    "ai_api_v2_client = AIAPIV2Client(\n",
    "    base_url=AI_API + \"/lm\", \n",
    "    auth_url=AUTH_URL + \"/oauth/token\", \n",
    "    client_id=CLIENT_ID,\n",
    "    client_secret=CLIENT_SECRET, \n",
    "    resource_group=RESOURCE_GROUP\n",
    ")"
   ]
  },
  {
   "cell_type": "markdown",
   "id": "3c788ed9-8d25-4e87-950d-78d2c787e654",
   "metadata": {},
   "source": [
    "# Create Serving Configuration"
   ]
  },
  {
   "cell_type": "code",
   "execution_count": 4,
   "id": "d39ab221-818d-40da-bb15-4502fd3dad35",
   "metadata": {},
   "outputs": [],
   "source": [
    "serving_configuration = {\n",
    "    \"name\": \"transformers config\",\n",
    "    \"scenario_id\": \"transformers\",\n",
    "    \"executable_id\": \"transformers\",\n",
    "    \"parameter_bindings\": [ ],\n",
    "    \"input_artifact_bindings\": [ ]\n",
    "}\n",
    "\n",
    "serving_config_resp = ai_api_v2_client.configuration.create(**serving_configuration)\n",
    "assert serving_config_resp.message == 'Configuration created'"
   ]
  },
  {
   "cell_type": "markdown",
   "id": "6f0a4aab",
   "metadata": {},
   "source": [
    "# Create Deployment"
   ]
  },
  {
   "cell_type": "code",
   "execution_count": 5,
   "id": "4440ad00-3f7a-46d0-98fe-897796b28b78",
   "metadata": {},
   "outputs": [
    {
     "data": {
      "text/plain": [
       "'d9cf2785339b4412'"
      ]
     },
     "execution_count": 5,
     "metadata": {},
     "output_type": "execute_result"
    }
   ],
   "source": [
    "deployment_resp = ai_api_v2_client.deployment.create(serving_config_resp.id)\n",
    "deployment_resp.id"
   ]
  },
  {
   "cell_type": "code",
   "execution_count": 6,
   "id": "b1d76aeb-1ce9-459c-85a7-4c3606911372",
   "metadata": {},
   "outputs": [],
   "source": [
    "deployment = ai_api_v2_client.deployment.get(deployment_resp.id)\n",
    "deployment.status_details   # check status"
   ]
  },
  {
   "cell_type": "markdown",
   "id": "e4b80d8c-1c4b-4f47-a5fe-a7170228939d",
   "metadata": {},
   "source": [
    "# Inference"
   ]
  },
  {
   "cell_type": "code",
   "execution_count": 8,
   "id": "ba941bad-479b-47fa-892a-af0da8e3fa5a",
   "metadata": {},
   "outputs": [],
   "source": [
    "def build_llama2_prompt(role_prompt, task_prompt):\n",
    "    B_S, E_S = \"<s>\", \" </s>\"\n",
    "    B_INST, E_INST = \"[INST]\", \" [/INST]\\n\"\n",
    "    B_SYS, E_SYS = \" <<SYS>>\\n\", \"\\n<</SYS>>\\n\\n\"\n",
    "    SYSTEM_PROMPT = B_SYS + role_prompt + E_SYS\n",
    "    return B_S + B_INST + SYSTEM_PROMPT + task_prompt + E_INST"
   ]
  },
  {
   "cell_type": "code",
   "execution_count": null,
   "id": "55d3cca0-1c20-446b-819a-42e0c41969fd",
   "metadata": {},
   "outputs": [],
   "source": [
    "def get_response(full_prompt, args={}):\n",
    "    res = requests.post(\n",
    "        f\"https://api.ai.internalprod.eu-central-1.aws.ml.hana.ondemand.com/v2/inference/deployments/{deployment_resp.id}/v2/predict\",\n",
    "        json={\"prompt\": full_prompt, \"args\": args},\n",
    "        headers={\n",
    "            \"Authorization\": ai_api_v2_client.rest_client.get_token(),\n",
    "            \"ai-resource-group\": RESOURCE_GROUP,\n",
    "            \"Content-Type\": \"application/json\"\n",
    "        })\n",
    "    if res.status_code != 200:\n",
    "        raise Exception(\"ERROR WITH DEPLOYMENT \" + str(res.status_code) + \" \" + str(res.content))\n",
    "    return res.json()[0][\"generated_text\"]   "
   ]
  },
  {
   "cell_type": "code",
   "execution_count": null,
   "id": "aa501a15",
   "metadata": {},
   "outputs": [],
   "source": [
    "r = get_response(build_llama2_prompt(role_prompt=\"You are a poet!\", task_prompt=\"Write a 5 line Poem, about lamas!\"))"
   ]
  },
  {
   "cell_type": "code",
   "execution_count": null,
   "id": "dd1da4c7",
   "metadata": {},
   "outputs": [],
   "source": [
    "print(r)"
   ]
  },
  {
   "cell_type": "code",
   "execution_count": 9,
   "id": "187be550",
   "metadata": {},
   "outputs": [
    {
     "data": {
      "text/plain": [
       "'<s>[INST] <<SYS>>\\nYou are a poet!\\n<</SYS>>\\n\\nWrite a 5 line Poem, about lamas! [/INST]\\n'"
      ]
     },
     "execution_count": 9,
     "metadata": {},
     "output_type": "execute_result"
    }
   ],
   "source": [
    "build_llama2_prompt(role_prompt=\"You are a poet!\", task_prompt=\"Write a 5 line Poem, about lamas!\")"
   ]
  },
  {
   "cell_type": "code",
   "execution_count": null,
   "id": "032797e1",
   "metadata": {},
   "outputs": [],
   "source": []
  }
 ],
 "metadata": {
  "kernelspec": {
   "display_name": "venv",
   "language": "python",
   "name": "python3"
  },
  "language_info": {
   "codemirror_mode": {
    "name": "ipython",
    "version": 3
   },
   "file_extension": ".py",
   "mimetype": "text/x-python",
   "name": "python",
   "nbconvert_exporter": "python",
   "pygments_lexer": "ipython3",
   "version": "3.10.6"
  },
  "vscode": {
   "interpreter": {
    "hash": "a1bfa18d89b0182c29bebdf1089d8bec43046a54c6a0f729fbabade14372a5c0"
   }
  }
 },
 "nbformat": 4,
 "nbformat_minor": 5
}
