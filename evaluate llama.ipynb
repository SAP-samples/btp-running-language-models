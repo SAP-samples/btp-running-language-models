{
 "cells": [
  {
   "cell_type": "code",
   "execution_count": 17,
   "id": "c5f1326f-692c-457f-8734-2e11f0fe2cac",
   "metadata": {},
   "outputs": [],
   "source": [
    "from ai_api_client_sdk.ai_api_v2_client import AIAPIV2Client\n",
    "import requests\n",
    "import json\n",
    "import pprint\n",
    "#key file from service instance is necessary to login\n",
    "with open(\"ai-core-key.txt\") as file:\n",
    "    aicorekey = json.load(file)"
   ]
  },
  {
   "cell_type": "code",
   "execution_count": 18,
   "id": "2100c3d3-0050-4657-ad86-40144b82d05a",
   "metadata": {},
   "outputs": [],
   "source": [
    "AUTH_URL = aicorekey[\"url\"]\n",
    "AI_API = aicorekey[\"serviceurls\"][\"AI_API_URL\"] + \"/v2\"\n",
    "CLIENT_ID = aicorekey[\"clientid\"]\n",
    "CLIENT_SECRET = aicorekey[\"clientsecret\"]\n",
    "RESOURCE_GROUP = \"llm\"\n",
    "SCENARIO_ID = \"transformers\"\n",
    "SERVING_EXECUTABLE = \"transformers\""
   ]
  },
  {
   "cell_type": "code",
   "execution_count": 19,
   "id": "8ee93e73-2225-4502-9b28-6030cac45aee",
   "metadata": {},
   "outputs": [],
   "source": [
    "ai_api_v2_client = AIAPIV2Client(\n",
    "    base_url=AI_API + \"/lm\", \n",
    "    auth_url=AUTH_URL + \"/oauth/token\", \n",
    "    client_id=CLIENT_ID,\n",
    "    client_secret=CLIENT_SECRET, \n",
    "    resource_group=RESOURCE_GROUP\n",
    ")"
   ]
  },
  {
   "cell_type": "markdown",
   "id": "3c788ed9-8d25-4e87-950d-78d2c787e654",
   "metadata": {},
   "source": [
    "# Evaluate Tasks"
   ]
  },
  {
   "cell_type": "code",
   "execution_count": 20,
   "id": "d39ab221-818d-40da-bb15-4502fd3dad35",
   "metadata": {},
   "outputs": [],
   "source": [
    "def get_response(full_prompt, args={}):\n",
    "    res = requests.post(\n",
    "        f\"https://api.ai.internalprod.eu-central-1.aws.ml.hana.ondemand.com/v2/inference/deployments/dd57ca34bd22438c/v2/predict\",\n",
    "        json={\"prompt\": full_prompt, \"args\": args},\n",
    "        headers={\n",
    "            \"Authorization\": ai_api_v2_client.rest_client.get_token(),\n",
    "            \"ai-resource-group\": RESOURCE_GROUP,\n",
    "            \"Content-Type\": \"application/json\"\n",
    "        })\n",
    "    if res.status_code != 200:\n",
    "        raise Exception(\"ERROR WITH DEPLOYMENT \" + str(res.status_code) + \" \" + str(res.content))\n",
    "    return res.json()[0][\"generated_text\"][len(full_prompt):]"
   ]
  },
  {
   "cell_type": "code",
   "execution_count": 21,
   "id": "ba941bad-479b-47fa-892a-af0da8e3fa5a",
   "metadata": {},
   "outputs": [],
   "source": [
    "def build_llama2_prompt(role_prompt, task_prompt):\n",
    "    B_S, E_S = \"<s>\", \" </s>\"\n",
    "    B_INST, E_INST = \"[INST]\", \" [/INST]\\n\"\n",
    "    B_SYS, E_SYS = \" <<SYS>>\\n\", \"\\n<</SYS>>\\n\\n\"\n",
    "    SYSTEM_PROMPT = B_SYS + role_prompt + E_SYS\n",
    "    return B_S + B_INST + SYSTEM_PROMPT + task_prompt + E_INST"
   ]
  },
  {
   "cell_type": "code",
   "execution_count": null,
   "id": "55d3cca0-1c20-446b-819a-42e0c41969fd",
   "metadata": {},
   "outputs": [],
   "source": []
  },
  {
   "cell_type": "code",
   "execution_count": 22,
   "id": "aa501a15",
   "metadata": {},
   "outputs": [
    {
     "name": "stdout",
     "output_type": "stream",
     "text": [
      "Positive\n"
     ]
    }
   ],
   "source": [
    "print(get_response(build_llama2_prompt(role_prompt=\"\"\"This app classifies text messages as either \"Positive\", \"Neutral\" or \"Negative\". You recieve 3 examples of the format and classify the fourth. Only respons with one word.\"\"\", task_prompt=\"\"\"\n",
    "###\n",
    "Text: I really like your shoes. Are they new?\n",
    "Sentiment: Positive\n",
    "###\n",
    "Text: Peter is very stupid.\n",
    "Sentiment: Negative\n",
    "###\n",
    "Text: I first met her last week. She is super nice.\n",
    "Sentiment: Positive\n",
    "###\n",
    "Text: The implementation of SAP's new solution significantly improved our business processes and efficiency.\n",
    "Sentiment: \"\"\")))"
   ]
  },
  {
   "cell_type": "code",
   "execution_count": 23,
   "id": "dd1da4c7",
   "metadata": {},
   "outputs": [],
   "source": [
    "# generated reviews for test purposes\n",
    "\n",
    "positive_reviews = [\n",
    "    \"Impressed with this mobile data plan! The data speed is great, and I can seamlessly stream my favorite shows and movies without buffering. Plus, the pricing is reasonable, making it a good value for money. Recommended!\",\n",
    "    \"Switched to this data plan, coverage improved a lot. Works even in remote areas, which is essential for my job. The signal strength is consistent. Thumbs up!\",\n",
    "    \"Unlimited data is a lifesaver! No more worries about running out of data or facing overage charges. It's a huge relief for my busy lifestyle.\",\n",
    "    \"This data plan offers fantastic flexibility! Customizing my data package based on my needs each month is easy and convenient. Love having control over my plan.\",\n",
    "    \"The data rollover feature is a game-changer! No more wasted data. I can roll over unused data to the next month. It's brilliant!\",\n",
    "    \"Reliable mobile data plan. Consistently get a strong signal no matter the time or location. No interruptions during browsing or streaming.\",\n",
    "    \"The mobile app is a lifesaver. It's user-friendly and allows me to monitor my data usage effectively. Real-time alerts are helpful.\",\n",
    "    \"Loyalty rewards program is a fantastic perk. Earning points for every payment and redeeming them for discounts or free data is a nice touch.\",\n",
    "    \"Works smoothly abroad! No need for expensive international roaming packages. Great convenience for travelers.\"\n",
    "]\n",
    "\n",
    "negative_reviews = [\n",
    "    \"Signal drops occasionally, and it's annoying. It can happen in unexpected areas, which is disappointing.\",\n",
    "    \"Overpriced for the service provided. While the speed is okay, it doesn't justify the cost compared to other options.\",\n",
    "    \"Customer service needs improvement. Had issues with billing and it was frustrating to resolve.\",\n",
    "    \"Data caps are limiting. It's inconvenient to run out of data before the month ends.\",\n",
    "    \"Coverage in rural areas is lacking. Struggled to get a reliable signal during travels.\",\n",
    "    \"Billing issues were confusing. Unexpected charges needed clarification.\",\n",
    "    \"Mobile app has glitches. Inaccurate data usage display and notifications are a hassle.\",\n",
    "    \"Limited international options. Had difficulties using the data plan abroad.\",\n",
    "    \"Data speed slows during peak hours. Inconsistent performance can be frustrating.\"\n",
    "]"
   ]
  },
  {
   "cell_type": "code",
   "execution_count": 25,
   "id": "187be550",
   "metadata": {},
   "outputs": [
    {
     "name": "stdout",
     "output_type": "stream",
     "text": [
      "Positive\n",
      "Positive\n",
      "Positive\n",
      "Positive\n",
      "Positive\n",
      "Positive\n",
      "Positive\n",
      "Positive\n",
      "Positive\n",
      "Positive\n"
     ]
    },
    {
     "data": {
      "text/plain": [
       "[None, None, None, None, None, None, None, None, None, None]"
      ]
     },
     "execution_count": 25,
     "metadata": {},
     "output_type": "execute_result"
    }
   ],
   "source": [
    "[print(get_response(build_llama2_prompt(role_prompt=\"\"\"This app classifies text reviews about a mobile carrier as either \"Positive\" or \"Negative\". You recieve 3 examples of the format and classify the fourth. Only respons with one word.\"\"\", task_prompt=f\"\"\"\n",
    "###\n",
    "Text: Customer service is outstanding! Had a billing issue, and the representatives were helpful and patient. I appreciate the support received.\n",
    "Sentiment: Positive\n",
    "###\n",
    "Text: Mixed feelings about this data plan. The speed fluctuates at times.\n",
    "Sentiment: Negative\n",
    "###\n",
    "Text: The callcenter responded quickly and solved my issue.\n",
    "Sentiment: Positive\n",
    "###\n",
    "Text: {review}\n",
    "Sentiment: \"\"\"))) for review in positive_reviews];"
   ]
  },
  {
   "cell_type": "code",
   "execution_count": 26,
   "id": "5d98cd38",
   "metadata": {},
   "outputs": [
    {
     "name": "stdout",
     "output_type": "stream",
     "text": [
      "Positive\n",
      "Negative\n",
      "Negative\n",
      "Negative\n",
      "Negative\n",
      "Negative\n",
      "Negative\n",
      "Negative\n",
      "Positive\n",
      "Negative\n"
     ]
    }
   ],
   "source": [
    "[print(get_response(build_llama2_prompt(role_prompt=\"\"\"This app classifies text reviews about a mobile carrier as either \"Positive\" or \"Negative\". You recieve 3 examples of the format and classify the fourth. Only respons with one word.\"\"\", task_prompt=f\"\"\"\n",
    "###\n",
    "Text: Customer service is outstanding! Had a billing issue, and the representatives were helpful and patient. I appreciate the support received.\n",
    "Sentiment: Positive\n",
    "###\n",
    "Text: Mixed feelings about this data plan. The speed fluctuates at times.\n",
    "Sentiment: Negative\n",
    "###\n",
    "Text: The callcenter responded quickly and solved my issue.\n",
    "Sentiment: Positive\n",
    "###\n",
    "Text: {review}\n",
    "Sentiment: \"\"\"))) for review in negative_reviews];"
   ]
  },
  {
   "cell_type": "code",
   "execution_count": 29,
   "id": "063c3f98",
   "metadata": {},
   "outputs": [
    {
     "name": "stdout",
     "output_type": "stream",
     "text": [
      "* Customer service\n",
      "* Billing\n",
      "* Issue\n",
      "* Speed\n",
      "* Peak hours\n",
      "Sure, I'd be happy to help! Here are the positive keywords extracted from the given examples:\n",
      "1. Customer service\n",
      "2. Billing\n",
      "3. Issue\n",
      "4. Quick\n",
      "* Customer service\n",
      "* Billing\n",
      "* Issue\n",
      "* Speed\n",
      "* Callcenter\n",
      "* Quick\n",
      "Sure, I'd be happy to help! Here are the positive keywords extracted from the given examples:\n",
      "1. Customer service\n",
      "2. Billing\n",
      "3. Issue\n",
      "4. Quick\n",
      "Sure, I'd be happy to help! Here are the positive keywords extracted from the given examples:\n",
      "1. Customer service\n",
      "2. Billing\n",
      "3. Issue\n",
      "4. Quick\n",
      "Sure, I'd be happy to help! Here are the positive keywords extracted from the provided reviews:\n",
      "1. Customer service\n",
      "2. Billing\n",
      "3. Issue\n",
      "4. Quick\n",
      "Sure, I'd be happy to help! Here are the positive keywords extracted from the given examples:\n",
      "1. Customer service\n",
      "2. Billing\n",
      "3. Issue\n",
      "4. Quick\n",
      "Sure, I'd be happy to help! Here are the positive keywords extracted from the provided examples:\n",
      "1. Customer service\n",
      "2. Billing\n",
      "3. Issue\n",
      "4. Quick\n",
      "Sure, I'd be happy to help! Here are the positive keywords extracted from the given examples:\n",
      "1. Customer service\n",
      "2. Billing\n",
      "3. Issue\n",
      "4. Quick\n",
      "Sure, I'd be happy to help! Here are the positive keywords extracted from the given examples:\n",
      "1. Customer service\n",
      "2. Billing\n",
      "3. Issue\n",
      "4. Quick\n"
     ]
    }
   ],
   "source": [
    "[print(get_response(build_llama2_prompt(role_prompt=\"\"\"This app extracts information from text reviews about a mobile carrier. Please extract positive keywords from the review. You recieve 3 examples of the format and fill the fourth. Only respons with one line.\"\"\", task_prompt=f\"\"\"\n",
    "###\n",
    "Text: Customer service is outstanding! Had a billing issue, and the representatives were helpful and patient. I appreciate the support received.\n",
    "Positive Keywords: customer service, billing, issue\n",
    "###\n",
    "Text: Mixed feelings about this data plan. The speed fluctuates at times.\n",
    "Positive Keywords: \n",
    "###\n",
    "Text: The callcenter responded quickly and solved my issue.\n",
    "Positive Keywords: callcenter, quick\n",
    "###\n",
    "Text: {review}\n",
    "Positive Keywords: \"\"\"))) for review in negative_reviews];"
   ]
  },
  {
   "cell_type": "code",
   "execution_count": null,
   "id": "b5b4c1d6",
   "metadata": {},
   "outputs": [],
   "source": []
  },
  {
   "cell_type": "code",
   "execution_count": 32,
   "id": "e33d3b40",
   "metadata": {},
   "outputs": [
    {
     "name": "stdout",
     "output_type": "stream",
     "text": [
      "This app extracts information from text reviews about a mobile carrier. Please extract positive keywords from the review. You recieve 3 examples of the format and fill the fourth. Only respons with one line.\n",
      "###\n",
      "Text: Customer service is outstanding! Had a billing issue, and the representatives were helpful and patient. I appreciate the support received.\n",
      "Positive Keywords: customer service, billing, issue\n",
      "###\n",
      "Text: Mixed feelings about this data plan. The speed fluctuates at times.\n",
      "Positive Keywords: \n",
      "###\n",
      "Text: The callcenter responded quickly and solved my issue.\n",
      "Positive Keywords: callcenter, quick\n",
      "###\n",
      "Text: Mixed feelings about this data plan. The speed fluctuates at times, especially during peak hours. It's not as consistent as I hoped.\n",
      "Positive Keywords: \n",
      "This app extracts information from text reviews about a mobile carrier. Please extract positive keywords from the review. You recieve 3 examples of the format and fill the fourth. Only respons with one line.\n",
      "###\n",
      "Text: Customer service is outstanding! Had a billing issue, and the representatives were helpful and patient. I appreciate the support received.\n",
      "Positive Keywords: customer service, billing, issue\n",
      "###\n",
      "Text: Mixed feelings about this data plan. The speed fluctuates at times.\n",
      "Positive Keywords: \n",
      "###\n",
      "Text: The callcenter responded quickly and solved my issue.\n",
      "Positive Keywords: callcenter, quick\n",
      "###\n",
      "Text: Signal drops occasionally, and it's annoying. It can happen in unexpected areas, which is disappointing.\n",
      "Positive Keywords: \n",
      "This app extracts information from text reviews about a mobile carrier. Please extract positive keywords from the review. You recieve 3 examples of the format and fill the fourth. Only respons with one line.\n",
      "###\n",
      "Text: Customer service is outstanding! Had a billing issue, and the representatives were helpful and patient. I appreciate the support received.\n",
      "Positive Keywords: customer service, billing, issue\n",
      "###\n",
      "Text: Mixed feelings about this data plan. The speed fluctuates at times.\n",
      "Positive Keywords: \n",
      "###\n",
      "Text: The callcenter responded quickly and solved my issue.\n",
      "Positive Keywords: callcenter, quick\n",
      "###\n",
      "Text: Overpriced for the service provided. While the speed is okay, it doesn't justify the cost compared to other options.\n",
      "Positive Keywords: \n",
      "This app extracts information from text reviews about a mobile carrier. Please extract positive keywords from the review. You recieve 3 examples of the format and fill the fourth. Only respons with one line.\n",
      "###\n",
      "Text: Customer service is outstanding! Had a billing issue, and the representatives were helpful and patient. I appreciate the support received.\n",
      "Positive Keywords: customer service, billing, issue\n",
      "###\n",
      "Text: Mixed feelings about this data plan. The speed fluctuates at times.\n",
      "Positive Keywords: \n",
      "###\n",
      "Text: The callcenter responded quickly and solved my issue.\n",
      "Positive Keywords: callcenter, quick\n",
      "###\n",
      "Text: Customer service needs improvement. Had issues with billing and it was frustrating to resolve.\n",
      "Positive Keywords: \n",
      "This app extracts information from text reviews about a mobile carrier. Please extract positive keywords from the review. You recieve 3 examples of the format and fill the fourth. Only respons with one line.\n",
      "###\n",
      "Text: Customer service is outstanding! Had a billing issue, and the representatives were helpful and patient. I appreciate the support received.\n",
      "Positive Keywords: customer service, billing, issue\n",
      "###\n",
      "Text: Mixed feelings about this data plan. The speed fluctuates at times.\n",
      "Positive Keywords: \n",
      "###\n",
      "Text: The callcenter responded quickly and solved my issue.\n",
      "Positive Keywords: callcenter, quick\n",
      "###\n",
      "Text: Data caps are limiting. It's inconvenient to run out of data before the month ends.\n",
      "Positive Keywords: \n",
      "This app extracts information from text reviews about a mobile carrier. Please extract positive keywords from the review. You recieve 3 examples of the format and fill the fourth. Only respons with one line.\n",
      "###\n",
      "Text: Customer service is outstanding! Had a billing issue, and the representatives were helpful and patient. I appreciate the support received.\n",
      "Positive Keywords: customer service, billing, issue\n",
      "###\n",
      "Text: Mixed feelings about this data plan. The speed fluctuates at times.\n",
      "Positive Keywords: \n",
      "###\n",
      "Text: The callcenter responded quickly and solved my issue.\n",
      "Positive Keywords: callcenter, quick\n",
      "###\n",
      "Text: Coverage in rural areas is lacking. Struggled to get a reliable signal during travels.\n",
      "Positive Keywords: \n",
      "This app extracts information from text reviews about a mobile carrier. Please extract positive keywords from the review. You recieve 3 examples of the format and fill the fourth. Only respons with one line.\n",
      "###\n",
      "Text: Customer service is outstanding! Had a billing issue, and the representatives were helpful and patient. I appreciate the support received.\n",
      "Positive Keywords: customer service, billing, issue\n",
      "###\n",
      "Text: Mixed feelings about this data plan. The speed fluctuates at times.\n",
      "Positive Keywords: \n",
      "###\n",
      "Text: The callcenter responded quickly and solved my issue.\n",
      "Positive Keywords: callcenter, quick\n",
      "###\n",
      "Text: Billing issues were confusing. Unexpected charges needed clarification.\n",
      "Positive Keywords: \n",
      "This app extracts information from text reviews about a mobile carrier. Please extract positive keywords from the review. You recieve 3 examples of the format and fill the fourth. Only respons with one line.\n",
      "###\n",
      "Text: Customer service is outstanding! Had a billing issue, and the representatives were helpful and patient. I appreciate the support received.\n",
      "Positive Keywords: customer service, billing, issue\n",
      "###\n",
      "Text: Mixed feelings about this data plan. The speed fluctuates at times.\n",
      "Positive Keywords: \n",
      "###\n",
      "Text: The callcenter responded quickly and solved my issue.\n",
      "Positive Keywords: callcenter, quick\n",
      "###\n",
      "Text: Mobile app has glitches. Inaccurate data usage display and notifications are a hassle.\n",
      "Positive Keywords: \n",
      "This app extracts information from text reviews about a mobile carrier. Please extract positive keywords from the review. You recieve 3 examples of the format and fill the fourth. Only respons with one line.\n",
      "###\n",
      "Text: Customer service is outstanding! Had a billing issue, and the representatives were helpful and patient. I appreciate the support received.\n",
      "Positive Keywords: customer service, billing, issue\n",
      "###\n",
      "Text: Mixed feelings about this data plan. The speed fluctuates at times.\n",
      "Positive Keywords: \n",
      "###\n",
      "Text: The callcenter responded quickly and solved my issue.\n",
      "Positive Keywords: callcenter, quick\n",
      "###\n",
      "Text: Limited international options. Had difficulties using the data plan abroad.\n",
      "Positive Keywords: \n",
      "This app extracts information from text reviews about a mobile carrier. Please extract positive keywords from the review. You recieve 3 examples of the format and fill the fourth. Only respons with one line.\n",
      "###\n",
      "Text: Customer service is outstanding! Had a billing issue, and the representatives were helpful and patient. I appreciate the support received.\n",
      "Positive Keywords: customer service, billing, issue\n",
      "###\n",
      "Text: Mixed feelings about this data plan. The speed fluctuates at times.\n",
      "Positive Keywords: \n",
      "###\n",
      "Text: The callcenter responded quickly and solved my issue.\n",
      "Positive Keywords: callcenter, quick\n",
      "###\n",
      "Text: Data speed slows during peak hours. Inconsistent performance can be frustrating.\n",
      "Positive Keywords: \n"
     ]
    },
    {
     "data": {
      "text/plain": [
       "[None, None, None, None, None, None, None, None, None, None]"
      ]
     },
     "execution_count": 32,
     "metadata": {},
     "output_type": "execute_result"
    }
   ],
   "source": [
    "[print(f\"\"\"This app extracts insights from customer reviews of a mobile carrier. \n",
    "       Please extract rate the review in the categories Internet Speed, Customer Service, Price, Sales Team as either \"Positive\", \"Neutral\" or \"Negative\". \n",
    "       You recieve 3 examples of the format and fill the fourth.\n",
    "       Most of the time the categories are neutral, only put a judgement if it is clearly referenced in the text.\n",
    "###\n",
    "Review: Customer service is outstanding! Had a billing issue, and the representatives were helpful and patient. I appreciate the support received.\n",
    "Internet Speed: Neutral\n",
    "Customer Service: Positive\n",
    "Price: Neutral\n",
    "Sales Team: Neutral\n",
    "###\n",
    "Review: Mixed feelings about this data plan. The speed fluctuates at times.\n",
    "Internet Speed: Negative\n",
    "Customer Service: Neutral\n",
    "Price: Neutral\n",
    "Sales Team: Neutral\n",
    "###\n",
    "Review: The callcenter responded quickly and solved my issue.\n",
    "Internet Speed: Neutral\n",
    "Customer Service: Positive\n",
    "Price: Neutral\n",
    "Sales Team: Neutral\n",
    "###\n",
    "Review: {review}\n",
    "\"\"\") for review in negative_reviews]"
   ]
  },
  {
   "cell_type": "code",
   "execution_count": null,
   "id": "635a9c75",
   "metadata": {},
   "outputs": [],
   "source": []
  }
 ],
 "metadata": {
  "kernelspec": {
   "display_name": "venv",
   "language": "python",
   "name": "python3"
  },
  "language_info": {
   "codemirror_mode": {
    "name": "ipython",
    "version": 3
   },
   "file_extension": ".py",
   "mimetype": "text/x-python",
   "name": "python",
   "nbconvert_exporter": "python",
   "pygments_lexer": "ipython3",
   "version": "3.10.6"
  },
  "vscode": {
   "interpreter": {
    "hash": "a1bfa18d89b0182c29bebdf1089d8bec43046a54c6a0f729fbabade14372a5c0"
   }
  }
 },
 "nbformat": 4,
 "nbformat_minor": 5
}
